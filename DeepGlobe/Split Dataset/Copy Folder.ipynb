{
 "cells": [
  {
   "cell_type": "code",
   "execution_count": 1,
   "id": "419cc1f6",
   "metadata": {},
   "outputs": [],
   "source": [
    "import pandas as pd\n",
    "\n",
    "df_train_dg = pd.read_csv('train_train_dg.csv')\n",
    "df_test_dg = pd.read_csv('train_test_dg.csv')"
   ]
  },
  {
   "cell_type": "code",
   "execution_count": 2,
   "id": "68c7ccdc",
   "metadata": {},
   "outputs": [
    {
     "data": {
      "text/html": [
       "<div>\n",
       "<style scoped>\n",
       "    .dataframe tbody tr th:only-of-type {\n",
       "        vertical-align: middle;\n",
       "    }\n",
       "\n",
       "    .dataframe tbody tr th {\n",
       "        vertical-align: top;\n",
       "    }\n",
       "\n",
       "    .dataframe thead th {\n",
       "        text-align: right;\n",
       "    }\n",
       "</style>\n",
       "<table border=\"1\" class=\"dataframe\">\n",
       "  <thead>\n",
       "    <tr style=\"text-align: right;\">\n",
       "      <th></th>\n",
       "      <th>Unnamed: 0</th>\n",
       "      <th>image_id</th>\n",
       "      <th>split</th>\n",
       "      <th>sat_image_path</th>\n",
       "      <th>mask_path</th>\n",
       "    </tr>\n",
       "  </thead>\n",
       "  <tbody>\n",
       "    <tr>\n",
       "      <th>0</th>\n",
       "      <td>0</td>\n",
       "      <td>215260</td>\n",
       "      <td>train</td>\n",
       "      <td>train/215260_sat.jpg</td>\n",
       "      <td>train/215260_mask.png</td>\n",
       "    </tr>\n",
       "    <tr>\n",
       "      <th>1</th>\n",
       "      <td>1</td>\n",
       "      <td>583569</td>\n",
       "      <td>train</td>\n",
       "      <td>train/583569_sat.jpg</td>\n",
       "      <td>train/583569_mask.png</td>\n",
       "    </tr>\n",
       "    <tr>\n",
       "      <th>2</th>\n",
       "      <td>2</td>\n",
       "      <td>293544</td>\n",
       "      <td>train</td>\n",
       "      <td>train/293544_sat.jpg</td>\n",
       "      <td>train/293544_mask.png</td>\n",
       "    </tr>\n",
       "    <tr>\n",
       "      <th>3</th>\n",
       "      <td>3</td>\n",
       "      <td>285361</td>\n",
       "      <td>train</td>\n",
       "      <td>train/285361_sat.jpg</td>\n",
       "      <td>train/285361_mask.png</td>\n",
       "    </tr>\n",
       "    <tr>\n",
       "      <th>4</th>\n",
       "      <td>4</td>\n",
       "      <td>105596</td>\n",
       "      <td>train</td>\n",
       "      <td>train/105596_sat.jpg</td>\n",
       "      <td>train/105596_mask.png</td>\n",
       "    </tr>\n",
       "  </tbody>\n",
       "</table>\n",
       "</div>"
      ],
      "text/plain": [
       "   Unnamed: 0  image_id  split        sat_image_path              mask_path\n",
       "0           0    215260  train  train/215260_sat.jpg  train/215260_mask.png\n",
       "1           1    583569  train  train/583569_sat.jpg  train/583569_mask.png\n",
       "2           2    293544  train  train/293544_sat.jpg  train/293544_mask.png\n",
       "3           3    285361  train  train/285361_sat.jpg  train/285361_mask.png\n",
       "4           4    105596  train  train/105596_sat.jpg  train/105596_mask.png"
      ]
     },
     "execution_count": 2,
     "metadata": {},
     "output_type": "execute_result"
    }
   ],
   "source": [
    "df_train_dg.head()"
   ]
  },
  {
   "cell_type": "code",
   "execution_count": 3,
   "id": "480952b2",
   "metadata": {},
   "outputs": [
    {
     "data": {
      "text/html": [
       "<div>\n",
       "<style scoped>\n",
       "    .dataframe tbody tr th:only-of-type {\n",
       "        vertical-align: middle;\n",
       "    }\n",
       "\n",
       "    .dataframe tbody tr th {\n",
       "        vertical-align: top;\n",
       "    }\n",
       "\n",
       "    .dataframe thead th {\n",
       "        text-align: right;\n",
       "    }\n",
       "</style>\n",
       "<table border=\"1\" class=\"dataframe\">\n",
       "  <thead>\n",
       "    <tr style=\"text-align: right;\">\n",
       "      <th></th>\n",
       "      <th>Unnamed: 0</th>\n",
       "      <th>image_id</th>\n",
       "      <th>split</th>\n",
       "      <th>sat_image_path</th>\n",
       "      <th>mask_path</th>\n",
       "    </tr>\n",
       "  </thead>\n",
       "  <tbody>\n",
       "    <tr>\n",
       "      <th>0</th>\n",
       "      <td>5500</td>\n",
       "      <td>407490</td>\n",
       "      <td>train</td>\n",
       "      <td>train/407490_sat.jpg</td>\n",
       "      <td>train/407490_mask.png</td>\n",
       "    </tr>\n",
       "    <tr>\n",
       "      <th>1</th>\n",
       "      <td>5501</td>\n",
       "      <td>758734</td>\n",
       "      <td>train</td>\n",
       "      <td>train/758734_sat.jpg</td>\n",
       "      <td>train/758734_mask.png</td>\n",
       "    </tr>\n",
       "    <tr>\n",
       "      <th>2</th>\n",
       "      <td>5502</td>\n",
       "      <td>812075</td>\n",
       "      <td>train</td>\n",
       "      <td>train/812075_sat.jpg</td>\n",
       "      <td>train/812075_mask.png</td>\n",
       "    </tr>\n",
       "    <tr>\n",
       "      <th>3</th>\n",
       "      <td>5503</td>\n",
       "      <td>993412</td>\n",
       "      <td>train</td>\n",
       "      <td>train/993412_sat.jpg</td>\n",
       "      <td>train/993412_mask.png</td>\n",
       "    </tr>\n",
       "    <tr>\n",
       "      <th>4</th>\n",
       "      <td>5504</td>\n",
       "      <td>162554</td>\n",
       "      <td>train</td>\n",
       "      <td>train/162554_sat.jpg</td>\n",
       "      <td>train/162554_mask.png</td>\n",
       "    </tr>\n",
       "  </tbody>\n",
       "</table>\n",
       "</div>"
      ],
      "text/plain": [
       "   Unnamed: 0  image_id  split        sat_image_path              mask_path\n",
       "0        5500    407490  train  train/407490_sat.jpg  train/407490_mask.png\n",
       "1        5501    758734  train  train/758734_sat.jpg  train/758734_mask.png\n",
       "2        5502    812075  train  train/812075_sat.jpg  train/812075_mask.png\n",
       "3        5503    993412  train  train/993412_sat.jpg  train/993412_mask.png\n",
       "4        5504    162554  train  train/162554_sat.jpg  train/162554_mask.png"
      ]
     },
     "execution_count": 3,
     "metadata": {},
     "output_type": "execute_result"
    }
   ],
   "source": [
    "df_test_dg.head()"
   ]
  },
  {
   "cell_type": "code",
   "execution_count": 5,
   "id": "76052c78",
   "metadata": {},
   "outputs": [
    {
     "name": "stderr",
     "output_type": "stream",
     "text": [
      "100%|██████████| 726/726 [00:06<00:00, 118.79it/s]\n"
     ]
    }
   ],
   "source": [
    "from tqdm import tqdm\n",
    "import shutil\n",
    "import os\n",
    "\n",
    "root_dst_dg_img = \"../DG2/test/images\"\n",
    "root_dst_dg_mask = \"../DG2/test/masks\"\n",
    "\n",
    "for i in tqdm(range(len(df_test_dg))):\n",
    "    dst_img_name = str(df_test_dg.loc[i, \"image_id\"]) + \".jpg\"\n",
    "    dst_label_name = str(df_test_dg.loc[i, \"image_id\"]) + \"_mask.png\"\n",
    "    \n",
    "    dst_img_path = os.path.join(root_dst_dg_img, dst_img_name)\n",
    "    dst_label_path = os.path.join(root_dst_dg_mask, dst_label_name)\n",
    "    \n",
    "#     print(dst_img_path)\n",
    "#     print(dst_label_path)\n",
    "    \n",
    "    shutil.copy(df_test_dg.loc[i, \"sat_image_path\"], dst_img_path)\n",
    "    shutil.copy(df_test_dg.loc[i, \"mask_path\"], dst_label_path)\n",
    "    "
   ]
  },
  {
   "cell_type": "code",
   "execution_count": 7,
   "id": "7a9d047f",
   "metadata": {},
   "outputs": [
    {
     "name": "stderr",
     "output_type": "stream",
     "text": [
      "100%|██████████| 5500/5500 [00:50<00:00, 108.97it/s]\n"
     ]
    }
   ],
   "source": [
    "root_dst_dg_img = \"../DG2/training/images\"\n",
    "root_dst_dg_mask = \"../DG2/training/masks\"\n",
    "\n",
    "for i in tqdm(range(len(df_train_dg))):\n",
    "    dst_img_name = str(df_train_dg.loc[i, \"image_id\"]) + \".jpg\"\n",
    "    dst_label_name = str(df_train_dg.loc[i, \"image_id\"]) + \"_mask.png\"\n",
    "    \n",
    "    dst_img_path = os.path.join(root_dst_dg_img, dst_img_name)\n",
    "    dst_label_path = os.path.join(root_dst_dg_mask, dst_label_name)\n",
    "    \n",
    "#     print(dst_img_path)\n",
    "#     print(dst_label_path)\n",
    "    \n",
    "    shutil.copy(df_train_dg.loc[i, \"sat_image_path\"], dst_img_path)\n",
    "    shutil.copy(df_train_dg.loc[i, \"mask_path\"], dst_label_path)"
   ]
  },
  {
   "cell_type": "code",
   "execution_count": null,
   "id": "fac87543",
   "metadata": {},
   "outputs": [],
   "source": []
  }
 ],
 "metadata": {
  "kernelspec": {
   "display_name": "Python 3 (ipykernel)",
   "language": "python",
   "name": "python3"
  },
  "language_info": {
   "codemirror_mode": {
    "name": "ipython",
    "version": 3
   },
   "file_extension": ".py",
   "mimetype": "text/x-python",
   "name": "python",
   "nbconvert_exporter": "python",
   "pygments_lexer": "ipython3",
   "version": "3.10.12"
  }
 },
 "nbformat": 4,
 "nbformat_minor": 5
}
