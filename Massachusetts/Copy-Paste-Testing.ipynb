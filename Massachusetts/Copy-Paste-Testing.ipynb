{
 "cells": [
  {
   "cell_type": "code",
   "execution_count": 1,
   "id": "f6da16dc",
   "metadata": {},
   "outputs": [],
   "source": [
    "import os\n",
    "import shutil\n",
    "from pathlib import Path"
   ]
  },
  {
   "cell_type": "code",
   "execution_count": 2,
   "id": "6827f2c9",
   "metadata": {},
   "outputs": [],
   "source": [
    "def append_mask_suffix(filename):\n",
    "    p = Path(filename)\n",
    "    return \"{0}_{2}{1}\".format(p.stem, p.suffix, 'mask')"
   ]
  },
  {
   "cell_type": "code",
   "execution_count": 3,
   "id": "942ca24e",
   "metadata": {},
   "outputs": [
    {
     "data": {
      "text/plain": [
       "'10078660_15_mask.tiff'"
      ]
     },
     "execution_count": 3,
     "metadata": {},
     "output_type": "execute_result"
    }
   ],
   "source": [
    "ori_path='tiff/training/masks/10078660_15.tiff'\n",
    "\n",
    "append_mask_suffix(ori_path)"
   ]
  },
  {
   "cell_type": "code",
   "execution_count": 14,
   "id": "d7178004",
   "metadata": {},
   "outputs": [
    {
     "name": "stdout",
     "output_type": "stream",
     "text": [
      "tiff/training/masks/10078660_15.tif to tiff/training/masks_2/10078660_15_mask.tif\n"
     ]
    },
    {
     "data": {
      "text/plain": [
       "'tiff/training/masks_2/10078660_15_mask.tif'"
      ]
     },
     "execution_count": 14,
     "metadata": {},
     "output_type": "execute_result"
    }
   ],
   "source": [
    "base_path_src = 'tiff/training/masks/'\n",
    "base_path_dst = 'tiff/training/masks_2/' \n",
    "\n",
    "fpath_src = base_path_src + '10078660_15.tif'\n",
    "\n",
    "fname_suffix = append_mask_suffix(fpath_src)\n",
    "# print(fname_suffix)\n",
    "\n",
    "fpath_dst = base_path_dst + fname_suffix\n",
    "# print(fpath_dst)\n",
    "\n",
    "print('{0} to {1}'.format(fpath_src, fpath_dst))\n",
    "shutil.copy(fpath_src,fpath_dst)"
   ]
  },
  {
   "cell_type": "code",
   "execution_count": 12,
   "id": "0cdb4d86",
   "metadata": {},
   "outputs": [
    {
     "data": {
      "text/plain": [
       "'./tiff/training/masks_2/10078660_15.tif'"
      ]
     },
     "execution_count": 12,
     "metadata": {},
     "output_type": "execute_result"
    }
   ],
   "source": [
    "shutil.copy('./tiff/training/masks/10078660_15.tif', './tiff/training/masks_2/10078660_15.tif')"
   ]
  },
  {
   "cell_type": "code",
   "execution_count": 29,
   "id": "41ae0a88",
   "metadata": {},
   "outputs": [
    {
     "data": {
      "text/plain": [
       "1109"
      ]
     },
     "execution_count": 29,
     "metadata": {},
     "output_type": "execute_result"
    }
   ],
   "source": [
    "val = os.listdir(base_path_src)\n",
    "len(val)"
   ]
  },
  {
   "cell_type": "code",
   "execution_count": 36,
   "id": "b34db2c1",
   "metadata": {},
   "outputs": [
    {
     "name": "stderr",
     "output_type": "stream",
     "text": [
      "797it [00:08, 96.28it/s]"
     ]
    },
    {
     "name": "stdout",
     "output_type": "stream",
     "text": [
      "ini dia\n"
     ]
    },
    {
     "name": "stderr",
     "output_type": "stream",
     "text": [
      "1109it [00:12, 90.97it/s]"
     ]
    },
    {
     "name": "stdout",
     "output_type": "stream",
     "text": [
      "1109\n"
     ]
    },
    {
     "name": "stderr",
     "output_type": "stream",
     "text": [
      "\n"
     ]
    }
   ],
   "source": [
    "from tqdm import tqdm\n",
    "\n",
    "count=0\n",
    "\n",
    "for i, name in tqdm(enumerate(val)):\n",
    "    count = count+1\n",
    "    image_path_src = os.path.join(base_path_src, name)\n",
    "#     print(name)\n",
    "    \n",
    "    if (name=='.ipynb_checkpoints'):\n",
    "        print(\"ini dia\")\n",
    "        continue\n",
    "        \n",
    "    fname_suffix = append_mask_suffix(image_path_src)\n",
    "    \n",
    "    image_path_dst = os.path.join(base_path_dst, fname_suffix)\n",
    "#     print(image_path_dst)\n",
    "    \n",
    "    shutil.copy(image_path_src, image_path_dst)\n",
    "\n",
    "print(count)"
   ]
  },
  {
   "cell_type": "code",
   "execution_count": 37,
   "id": "996a9bc7",
   "metadata": {},
   "outputs": [
    {
     "data": {
      "text/plain": [
       "1109"
      ]
     },
     "execution_count": 37,
     "metadata": {},
     "output_type": "execute_result"
    }
   ],
   "source": [
    "val = os.listdir(base_path_dst)\n",
    "len(val)"
   ]
  },
  {
   "cell_type": "code",
   "execution_count": null,
   "id": "4065343e",
   "metadata": {},
   "outputs": [],
   "source": []
  }
 ],
 "metadata": {
  "kernelspec": {
   "display_name": "Python 3 (ipykernel)",
   "language": "python",
   "name": "python3"
  },
  "language_info": {
   "codemirror_mode": {
    "name": "ipython",
    "version": 3
   },
   "file_extension": ".py",
   "mimetype": "text/x-python",
   "name": "python",
   "nbconvert_exporter": "python",
   "pygments_lexer": "ipython3",
   "version": "3.10.12"
  }
 },
 "nbformat": 4,
 "nbformat_minor": 5
}
