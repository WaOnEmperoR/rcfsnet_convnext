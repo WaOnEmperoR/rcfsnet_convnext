{
 "cells": [
  {
   "cell_type": "code",
   "execution_count": 1,
   "id": "4f1ad4d9",
   "metadata": {},
   "outputs": [],
   "source": [
    "import os\n",
    "import shutil\n",
    "from pathlib import Path"
   ]
  },
  {
   "cell_type": "code",
   "execution_count": 2,
   "id": "797cbef3",
   "metadata": {},
   "outputs": [],
   "source": [
    "def append_mask_suffix(filename):\n",
    "    p = Path(filename)\n",
    "    return \"{0}_{2}{1}\".format(p.stem, p.suffix, 'mask')"
   ]
  },
  {
   "cell_type": "code",
   "execution_count": 3,
   "id": "eac25aa1",
   "metadata": {},
   "outputs": [
    {
     "data": {
      "text/plain": [
       "'10078660_15_mask.tiff'"
      ]
     },
     "execution_count": 3,
     "metadata": {},
     "output_type": "execute_result"
    }
   ],
   "source": [
    "ori_path='tiff/test/masks/10078660_15.tiff'\n",
    "\n",
    "append_mask_suffix(ori_path)"
   ]
  },
  {
   "cell_type": "code",
   "execution_count": 4,
   "id": "577c8d6e",
   "metadata": {},
   "outputs": [],
   "source": [
    "base_path_src = 'tiff/test/masks/'\n",
    "base_path_dst = 'tiff/test/masks_2/' \n",
    "\n",
    "# fpath_src = base_path_src + '10078660_15.tif'\n",
    "\n",
    "# fname_suffix = append_mask_suffix(fpath_src)\n",
    "# # print(fname_suffix)\n",
    "\n",
    "# fpath_dst = base_path_dst + fname_suffix\n",
    "# # print(fpath_dst)\n",
    "\n",
    "# print('{0} to {1}'.format(fpath_src, fpath_dst))\n",
    "# shutil.copy(fpath_src,fpath_dst)"
   ]
  },
  {
   "cell_type": "code",
   "execution_count": 5,
   "id": "6e25d81c",
   "metadata": {},
   "outputs": [
    {
     "data": {
      "text/plain": [
       "'./tiff/training/masks_2/10078660_15.tif'"
      ]
     },
     "execution_count": 5,
     "metadata": {},
     "output_type": "execute_result"
    }
   ],
   "source": [
    "shutil.copy('./tiff/training/masks/10078660_15.tif', './tiff/training/masks_2/10078660_15.tif')"
   ]
  },
  {
   "cell_type": "code",
   "execution_count": 6,
   "id": "714bad13",
   "metadata": {},
   "outputs": [
    {
     "data": {
      "text/plain": [
       "50"
      ]
     },
     "execution_count": 6,
     "metadata": {},
     "output_type": "execute_result"
    }
   ],
   "source": [
    "val = os.listdir(base_path_src)\n",
    "len(val)"
   ]
  },
  {
   "cell_type": "code",
   "execution_count": 7,
   "id": "47131e3c",
   "metadata": {},
   "outputs": [
    {
     "name": "stderr",
     "output_type": "stream",
     "text": [
      "47it [00:00, 72.89it/s]"
     ]
    },
    {
     "name": "stdout",
     "output_type": "stream",
     "text": [
      "ini dia\n"
     ]
    },
    {
     "name": "stderr",
     "output_type": "stream",
     "text": [
      "50it [00:00, 70.74it/s]"
     ]
    },
    {
     "name": "stdout",
     "output_type": "stream",
     "text": [
      "50\n"
     ]
    },
    {
     "name": "stderr",
     "output_type": "stream",
     "text": [
      "\n"
     ]
    }
   ],
   "source": [
    "from tqdm import tqdm\n",
    "\n",
    "count=0\n",
    "\n",
    "for i, name in tqdm(enumerate(val)):\n",
    "    count = count+1\n",
    "    image_path_src = os.path.join(base_path_src, name)\n",
    "#     print(name)\n",
    "    \n",
    "    if (name=='.ipynb_checkpoints'):\n",
    "        print(\"ini dia\")\n",
    "        continue\n",
    "        \n",
    "    fname_suffix = append_mask_suffix(image_path_src)\n",
    "    \n",
    "    image_path_dst = os.path.join(base_path_dst, fname_suffix)\n",
    "#     print(image_path_dst)\n",
    "    \n",
    "    shutil.copy(image_path_src, image_path_dst)\n",
    "\n",
    "print(count)"
   ]
  },
  {
   "cell_type": "code",
   "execution_count": 11,
   "id": "369809e9",
   "metadata": {},
   "outputs": [
    {
     "data": {
      "text/plain": [
       "1109"
      ]
     },
     "execution_count": 11,
     "metadata": {},
     "output_type": "execute_result"
    }
   ],
   "source": [
    "val = os.listdir('tiff/training/masks_2/')\n",
    "len(val)"
   ]
  },
  {
   "cell_type": "code",
   "execution_count": null,
   "id": "56fe3748",
   "metadata": {},
   "outputs": [],
   "source": [
    "val2 = os.listdir(base_path_src)"
   ]
  }
 ],
 "metadata": {
  "kernelspec": {
   "display_name": "Python 3 (ipykernel)",
   "language": "python",
   "name": "python3"
  },
  "language_info": {
   "codemirror_mode": {
    "name": "ipython",
    "version": 3
   },
   "file_extension": ".py",
   "mimetype": "text/x-python",
   "name": "python",
   "nbconvert_exporter": "python",
   "pygments_lexer": "ipython3",
   "version": "3.10.12"
  }
 },
 "nbformat": 4,
 "nbformat_minor": 5
}
